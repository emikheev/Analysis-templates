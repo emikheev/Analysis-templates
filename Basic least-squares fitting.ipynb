{
 "cells": [
  {
   "cell_type": "markdown",
   "metadata": {},
   "source": [
    "# template for basic least-squares fitting"
   ]
  },
  {
   "cell_type": "code",
   "execution_count": 3,
   "metadata": {},
   "outputs": [],
   "source": [
    "import numpy as np\n",
    "import scipy.optimize\n",
    "import matplotlib.pyplot as plt\n",
    "%matplotlib inline\n"
   ]
  },
  {
   "cell_type": "code",
   "execution_count": 60,
   "metadata": {},
   "outputs": [],
   "source": [
    "x=np.arange(1,100)\n",
    "y=5+x**0.5+np.random.normal(size=x.size)"
   ]
  },
  {
   "cell_type": "code",
   "execution_count": 89,
   "metadata": {},
   "outputs": [
    {
     "name": "stdout",
     "output_type": "stream",
     "text": [
      "1.114 +/- 0.612\n"
     ]
    }
   ],
   "source": [
    "print(\"%.3f\"%fit[1],'+/-',\"%.3f\"%fiterr[1])"
   ]
  },
  {
   "cell_type": "code",
   "execution_count": 86,
   "metadata": {},
   "outputs": [
    {
     "data": {
      "text/plain": [
       "'0.612'"
      ]
     },
     "execution_count": 86,
     "metadata": {},
     "output_type": "execute_result"
    }
   ],
   "source": [
    "\"%.3f\"%fit[1]\n",
    "\"%.3f\"%fiterr[1]"
   ]
  },
  {
   "cell_type": "code",
   "execution_count": 73,
   "metadata": {},
   "outputs": [
    {
     "name": "stdout",
     "output_type": "stream",
     "text": [
      "1.1137512515179697\n"
     ]
    }
   ],
   "source": [
    "print(str(fit[1]))"
   ]
  },
  {
   "cell_type": "code",
   "execution_count": 95,
   "metadata": {
    "scrolled": true
   },
   "outputs": [
    {
     "name": "stdout",
     "output_type": "stream",
     "text": [
      "fit parameters:\n",
      "0)  4.530 +/- 1.172\n",
      "1)  1.114 +/- 0.612\n",
      "2)  0.489 +/- 0.099\n"
     ]
    },
    {
     "data": {
      "image/png": "[encoded data removed]",
      "text/plain": [
       "<Figure size 432x288 with 1 Axes>"
      ]
     },
     "metadata": {},
     "output_type": "display_data"
    }
   ],
   "source": [
    "def fitfun(x,a,b,c):\n",
    "    return a+b*x**c\n",
    "\n",
    "p0=[1,1,3];\n",
    "fit,fitcov=scipy.optimize.curve_fit(fitfun, x, y,p0=p0,method='lm')\n",
    "fiterr = np.sqrt(np.diag(fitcov)) #one standard deviation error\n",
    "\n",
    "print('fit parameters:')\n",
    "for ii in range(0,len(fit)):\n",
    "    print(str(ii)+') ',\"%.3f\"%fit[ii],'+/-',\"%.3f\"%fiterr[ii])\n",
    "    \n",
    "plt.plot(x,y,'o');\n",
    "plt.plot(x,fitfun(x,*fit));\n",
    "plt.xlabel('x');plt.ylabel('y');"
   ]
  }
 ],
 "metadata": {
  "kernelspec": {
   "display_name": "Python 3",
   "language": "python",
   "name": "python3"
  },
  "language_info": {
   "codemirror_mode": {
    "name": "ipython",
    "version": 3
   },
   "file_extension": ".py",
   "mimetype": "text/x-python",
   "name": "python",
   "nbconvert_exporter": "python",
   "pygments_lexer": "ipython3",
   "version": "3.6.6"
  },
  "toc": {
   "base_numbering": 1,
   "nav_menu": {},
   "number_sections": true,
   "sideBar": true,
   "skip_h1_title": false,
   "title_cell": "Table of Contents",
   "title_sidebar": "Contents",
   "toc_cell": false,
   "toc_position": {},
   "toc_section_display": true,
   "toc_window_display": false
  }
 },
 "nbformat": 4,
 "nbformat_minor": 2
}
